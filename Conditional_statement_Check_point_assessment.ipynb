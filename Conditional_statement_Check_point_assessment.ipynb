{
  "nbformat": 4,
  "nbformat_minor": 0,
  "metadata": {
    "colab": {
      "provenance": [],
      "toc_visible": true
    },
    "kernelspec": {
      "name": "python3",
      "display_name": "Python 3"
    },
    "language_info": {
      "name": "python"
    }
  },
  "cells": [
    {
      "cell_type": "markdown",
      "source": [
        "#Question 1: Write a Python program that accepts an integer (n) and computes the value of n+nn+nn"
      ],
      "metadata": {
        "id": "vb5sB9iV2ipy"
      }
    },
    {
      "cell_type": "code",
      "execution_count": null,
      "metadata": {
        "colab": {
          "base_uri": "https://localhost:8080/"
        },
        "id": "c7xskwEnqhaO",
        "outputId": "69c81d0d-d707-41dc-a750-591dfd252584"
      },
      "outputs": [
        {
          "output_type": "stream",
          "name": "stdout",
          "text": [
            "Enter a number:5\n",
            "615\n"
          ]
        }
      ],
      "source": [
        "#Question 1:\n",
        "i=int(input(\"Enter a number:\"))\n",
        "num= (i+ ((i*10)+i) +  ((i*100)+(i*10)+i))\n",
        "print (num)"
      ]
    },
    {
      "cell_type": "code",
      "source": [],
      "metadata": {
        "id": "zQAyk0gRpRc-"
      },
      "execution_count": null,
      "outputs": []
    },
    {
      "cell_type": "markdown",
      "source": [
        "Question 2:Write a Python program to find whether a given number (accept from the user) is even or odd, print out an appropriate message to the user.\n"
      ],
      "metadata": {
        "id": "JZuiLdQ_zmVc"
      }
    },
    {
      "cell_type": "code",
      "source": [
        "#Question 2\n",
        "num = int(input(\"enter a numbner: \"))\n",
        "if (num % 2) ==0:\n",
        "  print(num, \"is an even number\")\n",
        "else:\n",
        "  print(num, \"is an odd number\")"
      ],
      "metadata": {
        "colab": {
          "base_uri": "https://localhost:8080/"
        },
        "id": "Q_5E60AIzw3k",
        "outputId": "6469a331-0079-42a7-d0b5-bae7f5b86daf"
      },
      "execution_count": null,
      "outputs": [
        {
          "output_type": "stream",
          "name": "stdout",
          "text": [
            "enter a numbner: 6\n",
            "6 is an even number\n"
          ]
        }
      ]
    },
    {
      "cell_type": "markdown",
      "source": [
        "Question 3: Write a program which will find all such numbers which are divisible by 7 but are not a multiple of 5, between 2000 and 3200 (both included). The numbers obtained should be printed in a sequence on a single line.\n",
        "\n"
      ],
      "metadata": {
        "id": "8CaJkFxsPAv5"
      }
    },
    {
      "cell_type": "code",
      "source": [
        "#Question 3\n",
        "#n1=[]\n",
        "for x in range(2000, 3200):\n",
        "\n",
        "  if (x%7==0) and (x%5!=0):\n",
        "\n",
        "    print (x,  end=\" \")\n",
        "\n",
        "answer = [x for x in range(2000, 3200) if x%7==0 and x%5!=0]\n",
        "\n",
        "print (answer)"
      ],
      "metadata": {
        "colab": {
          "base_uri": "https://localhost:8080/"
        },
        "id": "w6WBGjjvPMpm",
        "outputId": "cf14d5ad-bcf7-4816-9bfb-0375fb62f335"
      },
      "execution_count": null,
      "outputs": [
        {
          "output_type": "stream",
          "name": "stdout",
          "text": [
            "2002 2009 2016 2023 2037 2044 2051 2058 2072 2079 2086 2093 2107 2114 2121 2128 2142 2149 2156 2163 2177 2184 2191 2198 2212 2219 2226 2233 2247 2254 2261 2268 2282 2289 2296 2303 2317 2324 2331 2338 2352 2359 2366 2373 2387 2394 2401 2408 2422 2429 2436 2443 2457 2464 2471 2478 2492 2499 2506 2513 2527 2534 2541 2548 2562 2569 2576 2583 2597 2604 2611 2618 2632 2639 2646 2653 2667 2674 2681 2688 2702 2709 2716 2723 2737 2744 2751 2758 2772 2779 2786 2793 2807 2814 2821 2828 2842 2849 2856 2863 2877 2884 2891 2898 2912 2919 2926 2933 2947 2954 2961 2968 2982 2989 2996 3003 3017 3024 3031 3038 3052 3059 3066 3073 3087 3094 3101 3108 3122 3129 3136 3143 3157 3164 3171 3178 3192 3199 [2002, 2009, 2016, 2023, 2037, 2044, 2051, 2058, 2072, 2079, 2086, 2093, 2107, 2114, 2121, 2128, 2142, 2149, 2156, 2163, 2177, 2184, 2191, 2198, 2212, 2219, 2226, 2233, 2247, 2254, 2261, 2268, 2282, 2289, 2296, 2303, 2317, 2324, 2331, 2338, 2352, 2359, 2366, 2373, 2387, 2394, 2401, 2408, 2422, 2429, 2436, 2443, 2457, 2464, 2471, 2478, 2492, 2499, 2506, 2513, 2527, 2534, 2541, 2548, 2562, 2569, 2576, 2583, 2597, 2604, 2611, 2618, 2632, 2639, 2646, 2653, 2667, 2674, 2681, 2688, 2702, 2709, 2716, 2723, 2737, 2744, 2751, 2758, 2772, 2779, 2786, 2793, 2807, 2814, 2821, 2828, 2842, 2849, 2856, 2863, 2877, 2884, 2891, 2898, 2912, 2919, 2926, 2933, 2947, 2954, 2961, 2968, 2982, 2989, 2996, 3003, 3017, 3024, 3031, 3038, 3052, 3059, 3066, 3073, 3087, 3094, 3101, 3108, 3122, 3129, 3136, 3143, 3157, 3164, 3171, 3178, 3192, 3199]\n"
          ]
        }
      ]
    },
    {
      "cell_type": "markdown",
      "source": [
        "**questioin4: Write a program which can compute the factorial of a given numbers. The results should be printed in a sequence on a single line. Suppose the following input is supplied to the program: 8 Then, the output should be: 40320 **"
      ],
      "metadata": {
        "id": "ShCqu-7ywOXk"
      }
    },
    {
      "cell_type": "code",
      "source": [
        "#question 4\n",
        "x = int(input(\"enter a number: \"))\n",
        "factorial = 1\n",
        "for x in range(1, x+1):\n",
        "  factorial *= x\n",
        "print(factorial, end=\" \")\n"
      ],
      "metadata": {
        "colab": {
          "base_uri": "https://localhost:8080/"
        },
        "id": "gwROw0-4rbBV",
        "outputId": "4530c064-5517-4ab8-f095-945a10a5c5d1"
      },
      "execution_count": null,
      "outputs": [
        {
          "output_type": "stream",
          "name": "stdout",
          "text": [
            "enter a number: 8\n",
            "40320 "
          ]
        }
      ]
    },
    {
      "cell_type": "markdown",
      "source": [
        "Question 5:Write a program to remove the characters which have odd index values of a given string.\n",
        "\n",
        "for example: string =\"hello team\""
      ],
      "metadata": {
        "id": "FlC_qpGe488Z"
      }
    },
    {
      "cell_type": "code",
      "source": [
        "#Answer 5\n",
        "x = input(\"Enter a string\")\n",
        "x1 = \" \"\n",
        "for i in range(0,len(x)):\n",
        "  if i%2==0:\n",
        "    x1+= x [i]\n",
        "print(x1)"
      ],
      "metadata": {
        "colab": {
          "base_uri": "https://localhost:8080/"
        },
        "id": "zIVcLd8j5SSG",
        "outputId": "cacbf902-d317-49c9-bcac-32e26fc7cd40"
      },
      "execution_count": null,
      "outputs": [
        {
          "output_type": "stream",
          "name": "stdout",
          "text": [
            "Enter a stringHello team\n",
            " Hlota\n"
          ]
        }
      ]
    }
  ]
}